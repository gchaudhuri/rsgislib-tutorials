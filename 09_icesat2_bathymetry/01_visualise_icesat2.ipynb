{
 "cells": [
  {
   "cell_type": "markdown",
   "id": "8ec569ff-1a3f-4c44-9dd9-f46070391341",
   "metadata": {},
   "source": [
    "# Creating a Bathymetric Surface from ICESAT-2 data\n",
    "\n",
    "The spaceborne ICESAT-2 LiDAR instrument is a photo counting LiDAR which has a wavelength of 532 nm. At this wavelength the signal penetrates into waterbodies and therefore point samples of water depths can be retrived (e.g., Thomas et al., 2021) down to 40 m in depth. However, given that icesat-2 just provides point samples it would be useful to be able to use these samples to create a bathymetric surface. The visible bands of optical data (e.g., Landsat and Sentinel-2) also provide some information from below the water surface (e.g., Thomas et al., 2021) and these can be assumed to have some relationship to the depth of the water. \n",
    "\n",
    "In these notebooks you will explore this relationship and look at two methods of using multiple satellite images as with cloud cover is very often the case that multiple images will be required. Therefore, these notebooks will show you how to generate image composites using RSGISLib and to summarise results from multiple images. \n",
    "\n",
    "See ICESAT-2 technical specification: https://icesat-2.gsfc.nasa.gov/science/specs\n",
    "\n",
    "\n",
    "Thomas, N. et al. Space‐Borne Cloud‐Native Satellite‐Derived Bathymetry (SDB) Models Using ICESat‐2 And Sentinel‐2. Geophys Res Lett 48, (2021).\n"
   ]
  },
  {
   "cell_type": "markdown",
   "id": "c7df85d0-f749-4676-aab9-934feeab8691",
   "metadata": {},
   "source": [
    "# Visualise ICESAT-2\n",
    "\n",
    "This first notebook will look at visualising some of the ICESAT-2.\n"
   ]
  },
  {
   "cell_type": "markdown",
   "id": "59cf0eb5-5397-4f80-835e-21ee35de54b4",
   "metadata": {},
   "source": [
    "# 1. Imports"
   ]
  },
  {
   "cell_type": "code",
   "execution_count": 1,
   "id": "959cc89a-5536-44d2-9af1-1cd11413bf1a",
   "metadata": {},
   "outputs": [],
   "source": [
    "import os\n",
    "\n",
    "import geopandas\n",
    "\n",
    "%matplotlib inline\n",
    "import matplotlib.pyplot as plt\n",
    "import numpy\n",
    "from shapely.geometry import Polygon"
   ]
  },
  {
   "cell_type": "markdown",
   "id": "9de53d35-d8bf-44a6-81e2-abdb1421a72b",
   "metadata": {},
   "source": [
    "# 2. Specify the input layers"
   ]
  },
  {
   "cell_type": "code",
   "execution_count": 2,
   "id": "f8cb208b-51f4-40ea-8ea1-646b20f510df",
   "metadata": {},
   "outputs": [],
   "source": [
    "vec_file = \"../data/is2_bathy/is2_bermuda_depth.gpkg\"\n",
    "\n",
    "vec_lyr_path1 = \"ic2_depth_bermuda_path1\"\n",
    "vec_lyr_path2 = \"ic2_depth_bermuda_path2\"\n",
    "vec_lyr_path3 = \"ic2_depth_bermuda_path3\"\n",
    "vec_lyr_path4 = \"ic2_depth_bermuda_path4\"\n",
    "vec_lyr_path5 = \"ic2_depth_bermuda_path5\"\n",
    "vec_lyr_path6 = \"ic2_depth_bermuda_path6\"\n",
    "vec_lyr_path7 = \"ic2_depth_bermuda_path7\"\n",
    "vec_lyr_path8 = \"ic2_depth_bermuda_path8\""
   ]
  },
  {
   "cell_type": "markdown",
   "id": "47b51ef3-f5be-4db9-a07a-025ef7c5ae66",
   "metadata": {},
   "source": [
    "# 3. Read Layer to Data Frame"
   ]
  },
  {
   "cell_type": "code",
   "execution_count": 3,
   "id": "2258edad-35c6-412e-aad4-b6c75e23da4d",
   "metadata": {},
   "outputs": [
    {
     "data": {
      "text/html": [
       "<div>\n",
       "<style scoped>\n",
       "    .dataframe tbody tr th:only-of-type {\n",
       "        vertical-align: middle;\n",
       "    }\n",
       "\n",
       "    .dataframe tbody tr th {\n",
       "        vertical-align: top;\n",
       "    }\n",
       "\n",
       "    .dataframe thead th {\n",
       "        text-align: right;\n",
       "    }\n",
       "</style>\n",
       "<table border=\"1\" class=\"dataframe\">\n",
       "  <thead>\n",
       "    <tr style=\"text-align: right;\">\n",
       "      <th></th>\n",
       "      <th>field_1</th>\n",
       "      <th>Longitude</th>\n",
       "      <th>Latitude</th>\n",
       "      <th>PhotonHeig</th>\n",
       "      <th>Depth</th>\n",
       "      <th>LandConfid</th>\n",
       "      <th>geometry</th>\n",
       "    </tr>\n",
       "  </thead>\n",
       "  <tbody>\n",
       "    <tr>\n",
       "      <th>0</th>\n",
       "      <td>0</td>\n",
       "      <td>330534.74964</td>\n",
       "      <td>3.575675e+06</td>\n",
       "      <td>-4.528613</td>\n",
       "      <td>-4.782535</td>\n",
       "      <td>-1</td>\n",
       "      <td>POINT (330534.750 3575675.343)</td>\n",
       "    </tr>\n",
       "    <tr>\n",
       "      <th>1</th>\n",
       "      <td>1</td>\n",
       "      <td>330534.46428</td>\n",
       "      <td>3.575679e+06</td>\n",
       "      <td>-3.525469</td>\n",
       "      <td>-3.779392</td>\n",
       "      <td>-1</td>\n",
       "      <td>POINT (330534.464 3575678.871)</td>\n",
       "    </tr>\n",
       "    <tr>\n",
       "      <th>2</th>\n",
       "      <td>2</td>\n",
       "      <td>330533.69081</td>\n",
       "      <td>3.575688e+06</td>\n",
       "      <td>-3.859086</td>\n",
       "      <td>-4.113008</td>\n",
       "      <td>-1</td>\n",
       "      <td>POINT (330533.691 3575688.059)</td>\n",
       "    </tr>\n",
       "    <tr>\n",
       "      <th>3</th>\n",
       "      <td>3</td>\n",
       "      <td>330532.69144</td>\n",
       "      <td>3.575701e+06</td>\n",
       "      <td>-3.008932</td>\n",
       "      <td>-3.262854</td>\n",
       "      <td>-1</td>\n",
       "      <td>POINT (330532.691 3575700.737)</td>\n",
       "    </tr>\n",
       "    <tr>\n",
       "      <th>4</th>\n",
       "      <td>4</td>\n",
       "      <td>330531.90601</td>\n",
       "      <td>3.575711e+06</td>\n",
       "      <td>-4.282633</td>\n",
       "      <td>-4.536555</td>\n",
       "      <td>-1</td>\n",
       "      <td>POINT (330531.906 3575710.601)</td>\n",
       "    </tr>\n",
       "    <tr>\n",
       "      <th>...</th>\n",
       "      <td>...</td>\n",
       "      <td>...</td>\n",
       "      <td>...</td>\n",
       "      <td>...</td>\n",
       "      <td>...</td>\n",
       "      <td>...</td>\n",
       "      <td>...</td>\n",
       "    </tr>\n",
       "    <tr>\n",
       "      <th>11375</th>\n",
       "      <td>11375</td>\n",
       "      <td>329202.44839</td>\n",
       "      <td>3.592284e+06</td>\n",
       "      <td>-7.953201</td>\n",
       "      <td>-8.207124</td>\n",
       "      <td>4</td>\n",
       "      <td>POINT (329202.448 3592283.854)</td>\n",
       "    </tr>\n",
       "    <tr>\n",
       "      <th>11376</th>\n",
       "      <td>11376</td>\n",
       "      <td>329202.32185</td>\n",
       "      <td>3.592285e+06</td>\n",
       "      <td>-8.135677</td>\n",
       "      <td>-8.389600</td>\n",
       "      <td>4</td>\n",
       "      <td>POINT (329202.322 3592285.259)</td>\n",
       "    </tr>\n",
       "    <tr>\n",
       "      <th>11377</th>\n",
       "      <td>11377</td>\n",
       "      <td>329202.32253</td>\n",
       "      <td>3.592285e+06</td>\n",
       "      <td>-8.039972</td>\n",
       "      <td>-8.293894</td>\n",
       "      <td>4</td>\n",
       "      <td>POINT (329202.323 3592285.259)</td>\n",
       "    </tr>\n",
       "    <tr>\n",
       "      <th>11378</th>\n",
       "      <td>11378</td>\n",
       "      <td>329202.26020</td>\n",
       "      <td>3.592286e+06</td>\n",
       "      <td>-7.981982</td>\n",
       "      <td>-8.235905</td>\n",
       "      <td>1</td>\n",
       "      <td>POINT (329202.260 3592285.960)</td>\n",
       "    </tr>\n",
       "    <tr>\n",
       "      <th>11379</th>\n",
       "      <td>11379</td>\n",
       "      <td>329201.94272</td>\n",
       "      <td>3.592289e+06</td>\n",
       "      <td>-8.321070</td>\n",
       "      <td>-8.574992</td>\n",
       "      <td>0</td>\n",
       "      <td>POINT (329201.943 3592289.472)</td>\n",
       "    </tr>\n",
       "  </tbody>\n",
       "</table>\n",
       "<p>11380 rows × 7 columns</p>\n",
       "</div>"
      ],
      "text/plain": [
       "      field_1     Longitude      Latitude  PhotonHeig     Depth  LandConfid  \\\n",
       "0           0  330534.74964  3.575675e+06   -4.528613 -4.782535          -1   \n",
       "1           1  330534.46428  3.575679e+06   -3.525469 -3.779392          -1   \n",
       "2           2  330533.69081  3.575688e+06   -3.859086 -4.113008          -1   \n",
       "3           3  330532.69144  3.575701e+06   -3.008932 -3.262854          -1   \n",
       "4           4  330531.90601  3.575711e+06   -4.282633 -4.536555          -1   \n",
       "...       ...           ...           ...         ...       ...         ...   \n",
       "11375   11375  329202.44839  3.592284e+06   -7.953201 -8.207124           4   \n",
       "11376   11376  329202.32185  3.592285e+06   -8.135677 -8.389600           4   \n",
       "11377   11377  329202.32253  3.592285e+06   -8.039972 -8.293894           4   \n",
       "11378   11378  329202.26020  3.592286e+06   -7.981982 -8.235905           1   \n",
       "11379   11379  329201.94272  3.592289e+06   -8.321070 -8.574992           0   \n",
       "\n",
       "                             geometry  \n",
       "0      POINT (330534.750 3575675.343)  \n",
       "1      POINT (330534.464 3575678.871)  \n",
       "2      POINT (330533.691 3575688.059)  \n",
       "3      POINT (330532.691 3575700.737)  \n",
       "4      POINT (330531.906 3575710.601)  \n",
       "...                               ...  \n",
       "11375  POINT (329202.448 3592283.854)  \n",
       "11376  POINT (329202.322 3592285.259)  \n",
       "11377  POINT (329202.323 3592285.259)  \n",
       "11378  POINT (329202.260 3592285.960)  \n",
       "11379  POINT (329201.943 3592289.472)  \n",
       "\n",
       "[11380 rows x 7 columns]"
      ]
     },
     "execution_count": 3,
     "metadata": {},
     "output_type": "execute_result"
    }
   ],
   "source": [
    "path1_gpd_df = geopandas.read_file(vec_file, layer=vec_lyr_path1)\n",
    "path1_gpd_df"
   ]
  },
  {
   "cell_type": "markdown",
   "id": "ef2763ae-84b4-4e79-a50b-5c89e17cf92f",
   "metadata": {},
   "source": [
    "# 4. Visualise Path 1"
   ]
  },
  {
   "cell_type": "code",
   "execution_count": 4,
   "id": "b0bb76ce-e77a-48d2-82f0-d2957100ce6a",
   "metadata": {},
   "outputs": [
    {
     "data": {
      "text/plain": [
       "<AxesSubplot:>"
      ]
     },
     "execution_count": 4,
     "metadata": {},
     "output_type": "execute_result"
    },
    {
     "data": {
      "image/png": "[encoded data removed]",
      "text/plain": [
       "<Figure size 720x720 with 1 Axes>"
      ]
     },
     "metadata": {
      "needs_background": "light"
     },
     "output_type": "display_data"
    }
   ],
   "source": [
    "fig, ax = plt.subplots(1, 1, figsize=(10, 10))\n",
    "path1_gpd_df.plot(ax=ax, marker=\".\", markersize=0.5)"
   ]
  },
  {
   "cell_type": "markdown",
   "id": "70c62019-160d-4478-8090-12b4b42ea68e",
   "metadata": {},
   "source": [
    "# 5. Subset the Path for Plotting"
   ]
  },
  {
   "cell_type": "markdown",
   "id": "e200e46e-3b3d-4504-a3e6-5b09c4afef5b",
   "metadata": {},
   "source": [
    "## 5.1 Define the BBOX"
   ]
  },
  {
   "cell_type": "code",
   "execution_count": 5,
   "id": "2f534799-e898-42b8-af1f-d5c881c90b38",
   "metadata": {},
   "outputs": [
    {
     "data": {
      "text/plain": [
       "<AxesSubplot:>"
      ]
     },
     "execution_count": 5,
     "metadata": {},
     "output_type": "execute_result"
    },
    {
     "data": {
      "image/png": "[encoded data removed]",
      "text/plain": [
       "<Figure size 720x720 with 1 Axes>"
      ]
     },
     "metadata": {
      "needs_background": "light"
     },
     "output_type": "display_data"
    }
   ],
   "source": [
    "min_x = 328622\n",
    "max_x = 330146\n",
    "min_y = 3586577\n",
    "max_y = 3592615\n",
    "\n",
    "# Create a custom polygon\n",
    "sub_poly = Polygon(\n",
    "    [(min_x, max_y), (max_x, max_y), (max_x, min_y), (min_x, min_y), (min_x, max_y)]\n",
    ")\n",
    "sub_poly_gdf = geopandas.GeoDataFrame([1], geometry=[sub_poly], crs=path1_gpd_df.crs)\n",
    "\n",
    "fig, ax = plt.subplots(1, 1, figsize=(10, 10))\n",
    "path1_gpd_df.plot(ax=ax, marker=\".\", markersize=0.5)\n",
    "sub_poly_gdf.plot(ax=ax, color=\"red\", alpha=0.5)"
   ]
  },
  {
   "cell_type": "markdown",
   "id": "a1443ba5-656e-4b38-991a-e0be7f478d60",
   "metadata": {},
   "source": [
    "## 5.2 Subset the GeoDataFrame\n",
    "\n",
    "Use the clip function.\n"
   ]
  },
  {
   "cell_type": "code",
   "execution_count": 6,
   "id": "5b9b335c-9537-4ed6-a195-115307fe5bb3",
   "metadata": {},
   "outputs": [
    {
     "data": {
      "text/html": [
       "<div>\n",
       "<style scoped>\n",
       "    .dataframe tbody tr th:only-of-type {\n",
       "        vertical-align: middle;\n",
       "    }\n",
       "\n",
       "    .dataframe tbody tr th {\n",
       "        vertical-align: top;\n",
       "    }\n",
       "\n",
       "    .dataframe thead th {\n",
       "        text-align: right;\n",
       "    }\n",
       "</style>\n",
       "<table border=\"1\" class=\"dataframe\">\n",
       "  <thead>\n",
       "    <tr style=\"text-align: right;\">\n",
       "      <th></th>\n",
       "      <th>field_1</th>\n",
       "      <th>Longitude</th>\n",
       "      <th>Latitude</th>\n",
       "      <th>PhotonHeig</th>\n",
       "      <th>Depth</th>\n",
       "      <th>LandConfid</th>\n",
       "      <th>geometry</th>\n",
       "    </tr>\n",
       "  </thead>\n",
       "  <tbody>\n",
       "    <tr>\n",
       "      <th>7411</th>\n",
       "      <td>7411</td>\n",
       "      <td>329659.58825</td>\n",
       "      <td>3.586578e+06</td>\n",
       "      <td>-16.550852</td>\n",
       "      <td>-16.804774</td>\n",
       "      <td>4</td>\n",
       "      <td>POINT (329659.588 3586577.538)</td>\n",
       "    </tr>\n",
       "    <tr>\n",
       "      <th>7412</th>\n",
       "      <td>7412</td>\n",
       "      <td>329659.58310</td>\n",
       "      <td>3.586578e+06</td>\n",
       "      <td>-17.269337</td>\n",
       "      <td>-17.523259</td>\n",
       "      <td>4</td>\n",
       "      <td>POINT (329659.583 3586577.541)</td>\n",
       "    </tr>\n",
       "    <tr>\n",
       "      <th>7413</th>\n",
       "      <td>7413</td>\n",
       "      <td>329659.57799</td>\n",
       "      <td>3.586578e+06</td>\n",
       "      <td>-17.980932</td>\n",
       "      <td>-18.234855</td>\n",
       "      <td>0</td>\n",
       "      <td>POINT (329659.578 3586577.543)</td>\n",
       "    </tr>\n",
       "    <tr>\n",
       "      <th>7414</th>\n",
       "      <td>7414</td>\n",
       "      <td>329659.53645</td>\n",
       "      <td>3.586578e+06</td>\n",
       "      <td>-15.936472</td>\n",
       "      <td>-16.190395</td>\n",
       "      <td>0</td>\n",
       "      <td>POINT (329659.536 3586578.247)</td>\n",
       "    </tr>\n",
       "    <tr>\n",
       "      <th>7415</th>\n",
       "      <td>7415</td>\n",
       "      <td>329659.14207</td>\n",
       "      <td>3.586583e+06</td>\n",
       "      <td>-15.929648</td>\n",
       "      <td>-16.183571</td>\n",
       "      <td>4</td>\n",
       "      <td>POINT (329659.142 3586583.222)</td>\n",
       "    </tr>\n",
       "    <tr>\n",
       "      <th>...</th>\n",
       "      <td>...</td>\n",
       "      <td>...</td>\n",
       "      <td>...</td>\n",
       "      <td>...</td>\n",
       "      <td>...</td>\n",
       "      <td>...</td>\n",
       "      <td>...</td>\n",
       "    </tr>\n",
       "    <tr>\n",
       "      <th>11374</th>\n",
       "      <td>11374</td>\n",
       "      <td>329202.44730</td>\n",
       "      <td>3.592284e+06</td>\n",
       "      <td>-8.105684</td>\n",
       "      <td>-8.359606</td>\n",
       "      <td>0</td>\n",
       "      <td>POINT (329202.447 3592283.855)</td>\n",
       "    </tr>\n",
       "    <tr>\n",
       "      <th>11377</th>\n",
       "      <td>11377</td>\n",
       "      <td>329202.32253</td>\n",
       "      <td>3.592285e+06</td>\n",
       "      <td>-8.039972</td>\n",
       "      <td>-8.293894</td>\n",
       "      <td>4</td>\n",
       "      <td>POINT (329202.323 3592285.259)</td>\n",
       "    </tr>\n",
       "    <tr>\n",
       "      <th>11376</th>\n",
       "      <td>11376</td>\n",
       "      <td>329202.32185</td>\n",
       "      <td>3.592285e+06</td>\n",
       "      <td>-8.135677</td>\n",
       "      <td>-8.389600</td>\n",
       "      <td>4</td>\n",
       "      <td>POINT (329202.322 3592285.259)</td>\n",
       "    </tr>\n",
       "    <tr>\n",
       "      <th>11378</th>\n",
       "      <td>11378</td>\n",
       "      <td>329202.26020</td>\n",
       "      <td>3.592286e+06</td>\n",
       "      <td>-7.981982</td>\n",
       "      <td>-8.235905</td>\n",
       "      <td>1</td>\n",
       "      <td>POINT (329202.260 3592285.960)</td>\n",
       "    </tr>\n",
       "    <tr>\n",
       "      <th>11379</th>\n",
       "      <td>11379</td>\n",
       "      <td>329201.94272</td>\n",
       "      <td>3.592289e+06</td>\n",
       "      <td>-8.321070</td>\n",
       "      <td>-8.574992</td>\n",
       "      <td>0</td>\n",
       "      <td>POINT (329201.943 3592289.472)</td>\n",
       "    </tr>\n",
       "  </tbody>\n",
       "</table>\n",
       "<p>3969 rows × 7 columns</p>\n",
       "</div>"
      ],
      "text/plain": [
       "      field_1     Longitude      Latitude  PhotonHeig      Depth  LandConfid  \\\n",
       "7411     7411  329659.58825  3.586578e+06  -16.550852 -16.804774           4   \n",
       "7412     7412  329659.58310  3.586578e+06  -17.269337 -17.523259           4   \n",
       "7413     7413  329659.57799  3.586578e+06  -17.980932 -18.234855           0   \n",
       "7414     7414  329659.53645  3.586578e+06  -15.936472 -16.190395           0   \n",
       "7415     7415  329659.14207  3.586583e+06  -15.929648 -16.183571           4   \n",
       "...       ...           ...           ...         ...        ...         ...   \n",
       "11374   11374  329202.44730  3.592284e+06   -8.105684  -8.359606           0   \n",
       "11377   11377  329202.32253  3.592285e+06   -8.039972  -8.293894           4   \n",
       "11376   11376  329202.32185  3.592285e+06   -8.135677  -8.389600           4   \n",
       "11378   11378  329202.26020  3.592286e+06   -7.981982  -8.235905           1   \n",
       "11379   11379  329201.94272  3.592289e+06   -8.321070  -8.574992           0   \n",
       "\n",
       "                             geometry  \n",
       "7411   POINT (329659.588 3586577.538)  \n",
       "7412   POINT (329659.583 3586577.541)  \n",
       "7413   POINT (329659.578 3586577.543)  \n",
       "7414   POINT (329659.536 3586578.247)  \n",
       "7415   POINT (329659.142 3586583.222)  \n",
       "...                               ...  \n",
       "11374  POINT (329202.447 3592283.855)  \n",
       "11377  POINT (329202.323 3592285.259)  \n",
       "11376  POINT (329202.322 3592285.259)  \n",
       "11378  POINT (329202.260 3592285.960)  \n",
       "11379  POINT (329201.943 3592289.472)  \n",
       "\n",
       "[3969 rows x 7 columns]"
      ]
     },
     "execution_count": 6,
     "metadata": {},
     "output_type": "execute_result"
    }
   ],
   "source": [
    "path1_gpd_df_sub = path1_gpd_df.clip(sub_poly)\n",
    "path1_gpd_df_sub"
   ]
  },
  {
   "cell_type": "markdown",
   "id": "e2e6dd41-e8fd-4893-92f9-1348cbd3a1f3",
   "metadata": {},
   "source": [
    "## 5.3 Plot the subset"
   ]
  },
  {
   "cell_type": "code",
   "execution_count": 7,
   "id": "abf6046e-642d-47c6-880d-f0574c0559f1",
   "metadata": {},
   "outputs": [
    {
     "data": {
      "text/plain": [
       "<AxesSubplot:>"
      ]
     },
     "execution_count": 7,
     "metadata": {},
     "output_type": "execute_result"
    },
    {
     "data": {
      "image/png": "[encoded data removed]",
      "text/plain": [
       "<Figure size 720x720 with 1 Axes>"
      ]
     },
     "metadata": {
      "needs_background": "light"
     },
     "output_type": "display_data"
    }
   ],
   "source": [
    "fig, ax = plt.subplots(1, 1, figsize=(10, 10))\n",
    "path1_gpd_df_sub.plot(ax=ax)"
   ]
  },
  {
   "cell_type": "markdown",
   "id": "2ca92ddc-bfaa-4121-9985-a8b629d1e6e2",
   "metadata": {},
   "source": [
    "# 6. Plot Depth values\n",
    "\n",
    "## 6.1 Get Depth and Latitude Values"
   ]
  },
  {
   "cell_type": "code",
   "execution_count": 8,
   "id": "fba77600-74cf-42a9-9276-70e14722beb4",
   "metadata": {},
   "outputs": [],
   "source": [
    "# Get the latidude and depth values to create scatter plot.\n",
    "depth_vals = path1_gpd_df_sub[\"Depth\"].values\n",
    "lat_vals = path1_gpd_df_sub[\"Latitude\"].values"
   ]
  },
  {
   "cell_type": "markdown",
   "id": "30f4cebd-5314-4955-8f02-17d6ddc30960",
   "metadata": {},
   "source": [
    "## 6.2 Plot the Depths\n",
    "\n",
    "The blue line is the water surface while the black points are the depths below the surface. Note, the scale in the x and y axis of the plot are different so bare that in mind when interpreting the plot."
   ]
  },
  {
   "cell_type": "code",
   "execution_count": 9,
   "id": "800fe00b-c898-4508-9e24-d8b486457808",
   "metadata": {},
   "outputs": [
    {
     "data": {
      "image/png": "[encoded data removed]",
      "text/plain": [
       "<Figure size 1800x360 with 1 Axes>"
      ]
     },
     "metadata": {
      "needs_background": "light"
     },
     "output_type": "display_data"
    }
   ],
   "source": [
    "# Plot the data\n",
    "fig, ax = plt.subplots(1, 1, figsize=(25, 5))\n",
    "ax.scatter(lat_vals, depth_vals, s=10, marker=\".\", color=\"black\", alpha=0.5)\n",
    "ax.axhline(y=0.0, color=\"blue\", linestyle=\"-\")\n",
    "fig.tight_layout()"
   ]
  }
 ],
 "metadata": {
  "kernelspec": {
   "display_name": "Python 3 (ipykernel)",
   "language": "python",
   "name": "python3"
  },
  "language_info": {
   "codemirror_mode": {
    "name": "ipython",
    "version": 3
   },
   "file_extension": ".py",
   "mimetype": "text/x-python",
   "name": "python",
   "nbconvert_exporter": "python",
   "pygments_lexer": "ipython3",
   "version": "3.9.10"
  }
 },
 "nbformat": 4,
 "nbformat_minor": 5
}
